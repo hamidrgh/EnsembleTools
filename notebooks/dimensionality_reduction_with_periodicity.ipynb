{
 "cells": [
  {
   "cell_type": "code",
   "execution_count": null,
   "id": "ebe4577a-7400-41b9-9f8e-4ea083e14c93",
   "metadata": {},
   "outputs": [],
   "source": [
    "import os\n",
    "import sklearn\n",
    "import matplotlib.pyplot as plt\n",
    "import numpy as np\n",
    "from sklearn.manifold import TSNE"
   ]
  },
  {
   "cell_type": "markdown",
   "id": "618bec92",
   "metadata": {},
   "source": [
    "### Generate some toy values for \"phi/psi\" angles.\n",
    "We will use the [von Mises distribution](https://en.wikipedia.org/wiki/Von_Mises_distribution) (also called the \"circular normal distribution\") to generate some random 2d data to mimic phi and psi angles.\n",
    "\n",
    "The toy dataset has two clusters:\n",
    "- one centered around `phi = -2` and `psi = 3`. Because of the location of psi values, this cluster has psi values close to both 3 and -3, caused by periodicity.\n",
    "- another centered around `phi = 1.5` and `psi = 0`. No significant periodicity issues points within this cluster."
   ]
  },
  {
   "cell_type": "code",
   "execution_count": null,
   "id": "ce5ef4b4",
   "metadata": {},
   "outputs": [],
   "source": [
    "# Create the raw dataset.\n",
    "N = 1000\n",
    "if N % 2 != 0:\n",
    "    raise ValueError(\"Number of sample should be divisible by 2\")\n",
    "\n",
    "# Phi angles have two modes.\n",
    "scale = 1/0.25\n",
    "phi = np.concatenate([\n",
    "    np.random.vonmises(-2, scale, (N//2, 1)),   # Samples centered around -2.\n",
    "    np.random.vonmises(1.5, scale, (N//2, 1))   # Samples centered around 1.5.\n",
    "    ], axis=0)\n",
    "\n",
    "# Psi angles have two modes.\n",
    "psi = np.concatenate([\n",
    "    np.random.vonmises(3, scale, (N//2, 1)),  # Samples centered around 3.\n",
    "    np.random.vonmises(0, scale, (N//2, 1))   # Samples centered around 0.\n",
    "    ], axis=0)\n",
    "\n",
    "# Classes.\n",
    "classes = np.concatenate([\n",
    "    np.zeros(N//2),  # First cluster.\n",
    "    np.ones(N//2)    # Second cluster.\n",
    "    ], axis=0)\n",
    "\n",
    "# Raw dataset.\n",
    "tors = np.concatenate([phi, psi], axis=1)"
   ]
  },
  {
   "cell_type": "code",
   "execution_count": null,
   "id": "d23b2894",
   "metadata": {},
   "outputs": [],
   "source": [
    "# Plot histogram.\n",
    "fig, ax = plt.subplots(1, 1, dpi=90, figsize=(4, 4))\n",
    "bins = np.linspace(-np.pi, np.pi, 25)\n",
    "ax.hist2d(tors[:,0], tors[:,1], bins=[bins, bins], cmap=\"Oranges\")\n",
    "ax.set_xlabel(\"phi [rad]\")\n",
    "ax.set_ylabel(\"psi [rad]\")\n",
    "ax.set_xlim(-np.pi, np.pi)\n",
    "ax.set_ylim(-np.pi, np.pi)\n",
    "ax.annotate(\"Cluster 1\", (-1.25, 2.75))\n",
    "ax.annotate(\"Cluster 1\", (-1.25, -2.75))\n",
    "ax.annotate(\"Cluster 2\", (1.5, 1.0))\n",
    "plt.show()"
   ]
  },
  {
   "cell_type": "code",
   "execution_count": null,
   "id": "158d27c3",
   "metadata": {},
   "outputs": [],
   "source": [
    "# Plot cluster classes.\n",
    "fig, ax = plt.subplots(1, 1, dpi=90, figsize=(4, 4))\n",
    "ax.set_title(\"Colored by original data cluster\")\n",
    "ax.scatter(tors[:,0], tors[:,1], alpha=0.75, c=classes,\n",
    "           cmap=\"cividis\", marker=\".\")\n",
    "ax.annotate(\"Cluster 1\", (-1.25, 2.75))\n",
    "ax.annotate(\"Cluster 1\", (-1.25, -2.75))\n",
    "ax.annotate(\"Cluster 2\", (1.5, 1.0))\n",
    "ax.set_xlabel(\"phi [rad]\")\n",
    "ax.set_ylabel(\"psi [rad]\")\n",
    "plt.show()"
   ]
  },
  {
   "cell_type": "markdown",
   "id": "ad438ce0",
   "metadata": {},
   "source": [
    "### Cluster with t-SNE with raw values\n",
    "We first fit our dataset with t-SNE, by using raw angle values."
   ]
  },
  {
   "cell_type": "code",
   "execution_count": null,
   "id": "e13d0518",
   "metadata": {},
   "outputs": [],
   "source": [
    "tsne = TSNE(n_components=2,\n",
    "            perplexity=100,\n",
    "            early_exaggeration=10.0,\n",
    "            learning_rate=100.0,\n",
    "            n_iter=3500,\n",
    "            metric=\"euclidean\",  # NOTE: euclidean distance is used here.\n",
    "            n_iter_without_progress=300,\n",
    "            min_grad_norm=1e-7,\n",
    "            init='random',\n",
    "            method='barnes_hut',\n",
    "            angle=0.5)\n",
    "tsne_data = tsne.fit_transform(tors)"
   ]
  },
  {
   "cell_type": "markdown",
   "id": "4510fd42",
   "metadata": {},
   "source": [
    "t-SNE identifies three clusters, since if you look at this dataset and consider Euclidean distances (distances in 2d space) it looks like there are three clusters. The cluster wrapped around the border in the original data (the blue one) is split into two different clusters."
   ]
  },
  {
   "cell_type": "code",
   "execution_count": null,
   "id": "e1dd9e31",
   "metadata": {},
   "outputs": [],
   "source": [
    "fig, ax = plt.subplots(1, 1, dpi=90, figsize=(4, 4))\n",
    "ax.set_title(\"Colored by original data cluster\")\n",
    "ax.scatter(tsne_data[:,0], tsne_data[:,1],\n",
    "           c=classes, cmap=\"cividis\", marker=\".\")\n",
    "ax.set_xlabel(\"t-SNE RD 0\")\n",
    "ax.set_ylabel(\"t-SNE RD 1\")\n",
    "plt.show()"
   ]
  },
  {
   "cell_type": "markdown",
   "id": "725f7c66",
   "metadata": {},
   "source": [
    "### Using a different measurment of distance\n",
    "t-SNE works by looking at some measurement of \"distance\" between datapoints. The sklearn implementation of t-SNE by default computes the Euclidean distance between datapoints. If we do this, our method will fail at clustering angular data close the \"borders\" of the plot. We will modify the way distances between datapoints are computed as follows:\n",
    "- For each angle we compute its sine and cosine values.\n",
    "- If plotted on a unit circle, sine and cosine values appear as the components of a unit vector,\n",
    "pointing in a direction dependent on the angle.\n",
    "\n",
    "<img src=\"https://upload.wikimedia.org/wikipedia/commons/thumb/7/72/Sinus_und_Kosinus_am_Einheitskreis_1.svg/1024px-Sinus_und_Kosinus_am_Einheitskreis_1.svg.png\" width=\"250\" />\n",
    "\n",
    "- We represent each angular value as the corresponding unit vector.\n",
    "- Finally, we calculate the distances between angles using the Euclidean distances between the **unit vectors**. This is because the unit vectors from angles with values close to -3 and 3 rads point in very similar directions. This is illustrated in the cell below.\n",
    "\n"
   ]
  },
  {
   "cell_type": "code",
   "execution_count": null,
   "id": "359d0ffd",
   "metadata": {},
   "outputs": [],
   "source": [
    "a0 = -3.05\n",
    "a1 = 3.05\n",
    "\n",
    "print(\"angle 0 = {} rad\".format(a0))\n",
    "print(\"angle 1 = {} rad\".format(a1))\n",
    "\n",
    "raw_euclidean_dist = np.sqrt(np.square(a0 - a1).sum())\n",
    "print(\"Euclidean distance =\", raw_euclidean_dist)\n",
    "\n",
    "v0 = np.array([np.cos(a0), np.sin(a0)])\n",
    "v1 = np.array([np.cos(a1), np.sin(a1)])\n",
    "sincos_euclidean_distance = np.sqrt(np.square(v0-v1).sum())\n",
    "print(\"Sincos euclidean distance =\", sincos_euclidean_distance)\n",
    "\n",
    "# Create a unit circle.\n",
    "circle = plt.Circle((0, 0), 1, color='blue', fill=False)\n",
    "# Create the plot.\n",
    "fig, ax = plt.subplots(figsize=(4, 4))\n",
    "# Add the circle to the plot.\n",
    "ax.add_artist(circle)\n",
    "# Plot the vectors.\n",
    "ax.quiver(0, 0, v0[0], v0[1], angles='xy', scale_units='xy',\n",
    "          scale=1, color='red', label=\"angle 0 = {} rad\".format(a0))\n",
    "ax.quiver(0, 0, v1[0], v1[1], angles='xy', scale_units='xy',\n",
    "          scale=1, color='green', label=\"angle 1 = {} rad\".format(a1))\n",
    "# Configure the plot.\n",
    "ax.set_aspect('equal')\n",
    "limit = 1.75\n",
    "plt.xlim(-limit, limit)\n",
    "plt.ylim(-limit, limit)\n",
    "plt.grid(True)\n",
    "plt.xlabel('cos(angle)')\n",
    "plt.ylabel('sin(angle)')\n",
    "plt.title('Unit Vectors on a circle')\n",
    "plt.legend(loc=\"upper right\")\n",
    "# Display the plot.\n",
    "plt.show()"
   ]
  },
  {
   "cell_type": "markdown",
   "id": "c53eee13",
   "metadata": {},
   "source": [
    "### Cluster with t-SNE by using distances between cos/sin vectors"
   ]
  },
  {
   "cell_type": "markdown",
   "id": "2e572378",
   "metadata": {},
   "source": [
    "We define some functions to convert angles (expressed in radians) to cos/sin values and to compute distances between unit vectors of cos/sin coordinates."
   ]
  },
  {
   "cell_type": "code",
   "execution_count": null,
   "id": "bdd804f1",
   "metadata": {},
   "outputs": [],
   "source": [
    "def unit_vectorize(a):\n",
    "    \"\"\"Convert an array with (*, N) angles in an array with (*, N, 2) sine and\n",
    "    cosine values for the N angles.\"\"\"\n",
    "    v = np.concatenate([np.cos(a)[...,None], np.sin(a)[...,None]], axis=-1)\n",
    "    return v\n",
    "\n",
    "def unit_vector_distance(a0, a1):\n",
    "    \"\"\"Compute the sum of distances between two (*, N, 2) arrays storing the\n",
    "    sine and cosine values of N angles.\"\"\"\n",
    "    v0 = unit_vectorize(a0)\n",
    "    v1 = unit_vectorize(a1)\n",
    "    # Distance between every pair of N angles.\n",
    "    dist = np.sqrt(np.square(v0 - v1).sum(axis=-1))\n",
    "    # We sum over the N angles.\n",
    "    dist = dist.sum(axis=-1)\n",
    "    return dist"
   ]
  },
  {
   "cell_type": "markdown",
   "id": "baa59eac",
   "metadata": {},
   "source": [
    "Quick sanity check."
   ]
  },
  {
   "cell_type": "code",
   "execution_count": null,
   "id": "4d5650b9",
   "metadata": {},
   "outputs": [],
   "source": [
    "# Test the distance function.\n",
    "def get_small_noise():\n",
    "    return np.random.randn()*0.01\n",
    "\n",
    "# Example of a pair of phi/psi angles values coming from Cluster 1.\n",
    "clst1_0 = [-2+get_small_noise(), 3+get_small_noise()] \n",
    "clst1_1 = [-2+get_small_noise(), 3+get_small_noise()]\n",
    "\n",
    "# Example of a pair of phi/psi angles values coming from Cluster 2.\n",
    "clst2_0 = [1.5+get_small_noise(), 0+get_small_noise()]\n",
    "\n",
    "# Distance between cluster 1 datapoints should be small.\n",
    "print(\"Unit vector distance between Cluster 1 - Cluster 1 datapoints:\",\n",
    "      unit_vector_distance(clst1_0, clst1_1))\n",
    "# Distance between cluster 1 and cluster 2 datapoints should be larger.\n",
    "print(\"Unit vector distance between Cluster 1 - Cluster 2 datapoints:\",\n",
    "      unit_vector_distance(clst1_0, clst2_0))"
   ]
  },
  {
   "cell_type": "markdown",
   "id": "3ce002b1",
   "metadata": {},
   "source": [
    "Fit t-SNE with the modified distance metric."
   ]
  },
  {
   "cell_type": "code",
   "execution_count": null,
   "id": "fe595c92",
   "metadata": {},
   "outputs": [],
   "source": [
    "tsne = TSNE(n_components=2,\n",
    "            perplexity=100,\n",
    "            early_exaggeration=10.0,\n",
    "            learning_rate=100.0,\n",
    "            n_iter=3500,\n",
    "            metric=unit_vector_distance,  # NOTE: we have only changed the function to compute distances.\n",
    "            n_iter_without_progress=300,\n",
    "            min_grad_norm=1e-7,\n",
    "            init='random',\n",
    "            method='barnes_hut',\n",
    "            angle=0.5)\n",
    "tsne_data = tsne.fit_transform(tors)"
   ]
  },
  {
   "cell_type": "markdown",
   "id": "538f6df7",
   "metadata": {},
   "source": [
    "Using the distance measurment which takes into account periodicity, t-SNE is able to separate the two clusters. NOTE: is using a large scale value for the von Mises distribution, some datapoints will be assigned to the wrong cluster anyway."
   ]
  },
  {
   "cell_type": "code",
   "execution_count": null,
   "id": "e2012972",
   "metadata": {},
   "outputs": [],
   "source": [
    "fig, ax = plt.subplots(1, 1, dpi=90, figsize=(4, 4))\n",
    "ax.scatter(tsne_data[:,0], tsne_data[:,1],\n",
    "           c=classes, cmap=\"cividis\", marker=\".\")\n",
    "ax.set_xlabel(\"t-SNE RD 0\")\n",
    "ax.set_ylabel(\"t-SNE RD 1\")\n",
    "plt.show()"
   ]
  }
 ],
 "metadata": {
  "kernelspec": {
   "display_name": "Python 3 (ipykernel)",
   "language": "python",
   "name": "python3"
  },
  "language_info": {
   "codemirror_mode": {
    "name": "ipython",
    "version": 3
   },
   "file_extension": ".py",
   "mimetype": "text/x-python",
   "name": "python",
   "nbconvert_exporter": "python",
   "pygments_lexer": "ipython3",
   "version": "3.10.13"
  }
 },
 "nbformat": 4,
 "nbformat_minor": 5
}
