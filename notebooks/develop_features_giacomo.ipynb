{
 "cells": [
  {
   "cell_type": "markdown",
   "id": "1d3d3ff6",
   "metadata": {},
   "source": [
    "# Notebook for new features development"
   ]
  },
  {
   "cell_type": "code",
   "execution_count": null,
   "metadata": {},
   "outputs": [],
   "source": [
    "import sys\n",
    "sys.path.append('/home/giacomo/projects/ensemble_analysis/git/EnsembleTools')"
   ]
  },
  {
   "cell_type": "code",
   "execution_count": null,
   "id": "3ed104cf",
   "metadata": {},
   "outputs": [],
   "source": [
    "import os\n",
    "import numpy as np\n",
    "import matplotlib.pyplot as plt\n",
    "from matplotlib import colors, cm\n",
    "from dpet.analysis import EnsembleAnalysis\n",
    "from dpet.logger import stream as st"
   ]
  },
  {
   "cell_type": "markdown",
   "id": "5bb00868",
   "metadata": {},
   "source": [
    "# Load data"
   ]
  },
  {
   "cell_type": "code",
   "execution_count": null,
   "id": "be233680",
   "metadata": {},
   "outputs": [],
   "source": [
    "# Codes.\n",
    "ens_codes = [\n",
    "    \"3a1g_B_prod_R1_fit\",\n",
    "    \"3a1g_B_prod_R2_fit\",\n",
    "    \"3a1g_B_prod_R3_fit\"\n",
    "]\n",
    "\n",
    "# Instantiate the pipeline object.\n",
    "pipeline = EnsembleAnalysis()\n",
    "\n",
    "# Load some data.\n",
    "data_dp = \"/home/giacomo/projects/ensemble_analysis/git/EnsembleTools/ensemble_files/3a1g_B\"\n",
    "pipeline.load_ensembles(\n",
    "    input_dp=data_dp,\n",
    "    codes=ens_codes,\n",
    "    format=\"traj\",\n",
    "    topology_fp= os.path.join(data_dp, \"3a1g_B.pdb\"),  # Not needed when format=\"pdb\".\n",
    "    ext=\"xtc\"\n",
    ")\n",
    "\n",
    "st.write(\"Loaded ensembles with the following codes:\", pipeline.codes)"
   ]
  },
  {
   "cell_type": "markdown",
   "id": "340d56da",
   "metadata": {},
   "source": [
    "# Center-of-mass distances"
   ]
  },
  {
   "cell_type": "code",
   "execution_count": null,
   "id": "41cf3267",
   "metadata": {},
   "outputs": [],
   "source": [
    "import matplotlib.pyplot as plt\n",
    "from dpet.featurization.distances import (featurize_com_dist,\n",
    "                                          calc_com_dmap,\n",
    "                                          calc_ca_dmap)\n",
    "\n",
    "# traj = slice_traj_to_com(traj)\n",
    "for code in pipeline.ensembles:\n",
    "    traj = pipeline.ensembles[code].traj\n",
    "\n",
    "    feat, names = featurize_com_dist(traj=traj, seq_sep=2, get_names=True)\n",
    "    print(f\"# Ensemble: {code}\")\n",
    "    print(\"features:\", feat.shape)\n",
    "    # print(feat)\n",
    "\n",
    "    com_dmap = calc_com_dmap(traj=traj)\n",
    "    com_dmap_mean = com_dmap.mean(axis=0)\n",
    "    ca_dmap = calc_ca_dmap(traj=traj)\n",
    "    ca_dmap_mean = ca_dmap.mean(axis=0)\n",
    "\n",
    "    print(\"distance matrix:\", com_dmap_mean.shape)\n",
    "    fig, ax = plt.subplots(1, 2, figsize=(6, 2.5))\n",
    "    fig.suptitle(code)\n",
    "    im0 = ax[0].imshow(ca_dmap_mean)\n",
    "    ax[0].set_title(\"CA\")\n",
    "    im1 = ax[1].imshow(com_dmap_mean)\n",
    "    ax[1].set_title(\"COM\")\n",
    "    cbar = fig.colorbar(im0, ax=ax[0], shrink=0.8)\n",
    "    cbar.set_label(\"distance [nm]\")\n",
    "    cbar = fig.colorbar(im1, ax=ax[1], shrink=0.8)\n",
    "    cbar.set_label(\"distance [nm]\")\n",
    "\n",
    "    plt.tight_layout()\n",
    "    plt.show()"
   ]
  },
  {
   "cell_type": "code",
   "execution_count": null,
   "id": "858d9995",
   "metadata": {},
   "outputs": [],
   "source": []
  },
  {
   "cell_type": "code",
   "execution_count": null,
   "id": "4f11bb38",
   "metadata": {},
   "outputs": [],
   "source": []
  }
 ],
 "metadata": {
  "kernelspec": {
   "display_name": "Python 3 (ipykernel)",
   "language": "python",
   "name": "python3"
  },
  "language_info": {
   "codemirror_mode": {
    "name": "ipython",
    "version": 3
   },
   "file_extension": ".py",
   "mimetype": "text/x-python",
   "name": "python",
   "nbconvert_exporter": "python",
   "pygments_lexer": "ipython3",
   "version": "3.10.13"
  }
 },
 "nbformat": 4,
 "nbformat_minor": 5
}
